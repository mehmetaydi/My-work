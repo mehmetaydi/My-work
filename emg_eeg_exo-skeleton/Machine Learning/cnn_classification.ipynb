{
 "cells": [
  {
   "cell_type": "code",
   "execution_count": 1,
   "id": "269f8d56",
   "metadata": {},
   "outputs": [],
   "source": [
    "from os import listdir\n",
    "from os.path import isfile, join\n",
    "import numpy\n",
    "import cv2\n",
    "import numpy as np\n",
    "from sklearn.utils import shuffle\n",
    "from sklearn.model_selection import train_test_split\n",
    "from sklearn.metrics import confusion_matrix\n",
    "from keras import layers\n",
    "from keras.layers import Input, Dense, Activation,BatchNormalization, Flatten, Conv2D, MaxPooling2D ,Dropout\n",
    "from keras.models import Model\n",
    "from keras.preprocessing import image\n",
    "from keras.preprocessing.image import ImageDataGenerator\n",
    "import keras.backend as K\n",
    "import matplotlib.pyplot as plt\n",
    "from tensorflow.keras.applications import ResNet50\n",
    "from tensorflow import keras\n",
    "import keras\n",
    "from keras.models import Sequential\n",
    "from sklearn.model_selection import KFold\n",
    "from keras.layers import Dense, Activation, Dropout, Flatten, Conv2D, MaxPooling2D,LSTM\n",
    "from sklearn.metrics import plot_confusion_matrix,roc_curve, roc_auc_score\n",
    "import tensorflow as tf\n",
    "import numpy as np\n",
    "from matplotlib.pyplot import imshow\n",
    "from tensorflow.keras.utils import to_categorical\n",
    "from sklearn.metrics import classification_report \n",
    "import re\n",
    "import warnings\n",
    "import pandas as pd\n",
    "import numpy as np\n",
    "import matplotlib.pyplot as plt\n",
    "%matplotlib inline\n",
    "import seaborn as sns\n",
    "from sklearn.decomposition import PCA\n",
    "from sklearn.preprocessing import StandardScaler\n",
    "from sklearn.model_selection import train_test_split\n",
    "\n",
    "from sklearn import metrics\n",
    "from keras.models import Sequential\n",
    "from keras.layers import Dense\n",
    "from keras.utils import np_utils"
   ]
  },
  {
   "cell_type": "code",
   "execution_count": 2,
   "id": "0f4ec487",
   "metadata": {},
   "outputs": [],
   "source": [
    "# #images = np.load('/content/drive/MyDrive/images.npy')\n",
    "# def extract_number(string):\n",
    "#     r = re.compile(r'(\\d+)')\n",
    "#     return int(r.findall(string)[0])\n",
    "\n",
    "\n",
    "# dim = (300, 300)\n",
    "# mypath= r'C:\\Users\\phmeay\\Desktop\\Work files\\DTF-PDC\\OPDC\\OPDC\\images file'\n",
    "# onlyfiles = [ f for f in listdir(mypath) if isfile(join(mypath,f)) ]\n",
    "# sortedFiles = sorted(onlyfiles ,key=lambda x: extract_number(x) )\n",
    "# images = np.empty((len(sortedFiles),300,300))\n",
    "# for n in range(0, len(sortedFiles)):\n",
    "#   img = cv2.imread( join(mypath,sortedFiles[n]),cv2.IMREAD_GRAYSCALE  )\n",
    "#   images[n] = cv2.resize(img, dim)\n",
    "# label_motion = np.ones((len(images[:,1,1]))-952)\n",
    "# label_therapy = np.zeros((len(images[:,1,1]))-663)\n",
    "# y = np.hstack((label_motion,label_therapy))\n",
    "\n",
    "# print(images.shape)\n",
    "# print(y.shape)"
   ]
  },
  {
   "cell_type": "code",
   "execution_count": 3,
   "id": "537565bc",
   "metadata": {},
   "outputs": [
    {
     "name": "stdout",
     "output_type": "stream",
     "text": [
      "(1615, 656, 875)\n",
      "(1615,)\n"
     ]
    }
   ],
   "source": [
    "#images = np.load('/content/drive/MyDrive/images.npy')\n",
    "def extract_number(string):\n",
    "    r = re.compile(r'(\\d+)')\n",
    "    return int(r.findall(string)[0])\n",
    "\n",
    "\n",
    "dim = (300, 300)\n",
    "mypath= r'C:\\Users\\phmeay\\Desktop\\Work files\\DTF-PDC\\OPDC\\OPDC\\images file'\n",
    "onlyfiles = [ f for f in listdir(mypath) if isfile(join(mypath,f)) ]\n",
    "sortedFiles = sorted(onlyfiles ,key=lambda x: extract_number(x) )\n",
    "# images = numpy.empty(len(sortedFiles), dtype=object)\n",
    "images =[]\n",
    "for n in range(0, len(sortedFiles)):\n",
    "  img  = cv2.imread( join(mypath,sortedFiles[n]),cv2.IMREAD_GRAYSCALE  )\n",
    "  images.append(img)\n",
    "  # images[n] = cv2.resize(img, dim)\n",
    "images =np.array(images)\n",
    "label_motion = np.ones((len(images[:,1,1]))-952)\n",
    "label_therapy = np.zeros((len(images[:,1,1]))-663)\n",
    "y = np.hstack((label_motion,label_therapy))\n",
    "\n",
    "print(images.shape)\n",
    "print(y.shape)"
   ]
  },
  {
   "cell_type": "code",
   "execution_count": 4,
   "id": "115afaa0",
   "metadata": {},
   "outputs": [],
   "source": [
    "X= images.reshape((images.shape[0], 656*875))"
   ]
  },
  {
   "cell_type": "code",
   "execution_count": 5,
   "id": "2a1d3822",
   "metadata": {},
   "outputs": [],
   "source": [
    "num_classes =2\n",
    "X_train, X_test, y_train, y_test = train_test_split(X, y, test_size=0.3,random_state=8)"
   ]
  },
  {
   "cell_type": "code",
   "execution_count": 6,
   "id": "23fd6812",
   "metadata": {},
   "outputs": [],
   "source": [
    "# convert from integers to floats\n",
    "train_norm = X_train.astype('float32')\n",
    "test_norm = X_test.astype('float32')\n",
    "# normalize to range 0-1\n",
    "X_train = train_norm / 255.0\n",
    "X_test = test_norm / 255.0"
   ]
  },
  {
   "cell_type": "code",
   "execution_count": 7,
   "id": "20fdcdb2",
   "metadata": {},
   "outputs": [],
   "source": [
    "pca = PCA(0.90)"
   ]
  },
  {
   "cell_type": "code",
   "execution_count": 8,
   "id": "9ba37233",
   "metadata": {},
   "outputs": [
    {
     "data": {
      "text/plain": [
       "PCA(n_components=0.9)"
      ]
     },
     "execution_count": 8,
     "metadata": {},
     "output_type": "execute_result"
    }
   ],
   "source": [
    "pca.fit(X_train)"
   ]
  },
  {
   "cell_type": "code",
   "execution_count": 9,
   "id": "2bba9772",
   "metadata": {},
   "outputs": [
    {
     "data": {
      "text/plain": [
       "43"
      ]
     },
     "execution_count": 9,
     "metadata": {},
     "output_type": "execute_result"
    }
   ],
   "source": [
    "pca.n_components_"
   ]
  },
  {
   "cell_type": "code",
   "execution_count": 10,
   "id": "9a053a40",
   "metadata": {},
   "outputs": [
    {
     "name": "stdout",
     "output_type": "stream",
     "text": [
      "(1130, 43)\n",
      "(485, 43)\n",
      "43\n"
     ]
    }
   ],
   "source": [
    "train_img_pca = pca.transform(X_train)\n",
    "test_img_pca = pca.transform(X_test)\n",
    "print(train_img_pca.shape)\n",
    "print(test_img_pca.shape)\n",
    "print(len(train_img_pca[1,:]))"
   ]
  },
  {
   "cell_type": "code",
   "execution_count": 11,
   "id": "8117cb06",
   "metadata": {},
   "outputs": [],
   "source": [
    "y_train =to_categorical(y_train)\n",
    "y_test = to_categorical(y_test)"
   ]
  },
  {
   "cell_type": "code",
   "execution_count": 12,
   "id": "df6bb39b",
   "metadata": {},
   "outputs": [],
   "source": [
    "batch_size = 128\n",
    "num_classes = 2\n",
    "epochs = 30"
   ]
  },
  {
   "cell_type": "code",
   "execution_count": 13,
   "id": "7c1844e8",
   "metadata": {},
   "outputs": [],
   "source": [
    "model = Sequential()\n",
    "model.add(Dense(96, activation='relu', input_shape=(43,)))\n",
    "model.add(Dense(64, activation='relu'))\n",
    "#model.add(Dense(512, activation='relu'))\n",
    "#model.add(Dense(256, activation='relu'))\n",
    "model.add(Dense(num_classes, activation='softmax'))"
   ]
  },
  {
   "cell_type": "code",
   "execution_count": 14,
   "id": "1443f4a1",
   "metadata": {},
   "outputs": [
    {
     "name": "stdout",
     "output_type": "stream",
     "text": [
      "Model: \"sequential\"\n",
      "_________________________________________________________________\n",
      "Layer (type)                 Output Shape              Param #   \n",
      "=================================================================\n",
      "dense (Dense)                (None, 96)                4224      \n",
      "_________________________________________________________________\n",
      "dense_1 (Dense)              (None, 64)                6208      \n",
      "_________________________________________________________________\n",
      "dense_2 (Dense)              (None, 2)                 130       \n",
      "=================================================================\n",
      "Total params: 10,562\n",
      "Trainable params: 10,562\n",
      "Non-trainable params: 0\n",
      "_________________________________________________________________\n"
     ]
    }
   ],
   "source": [
    "model.summary()"
   ]
  },
  {
   "cell_type": "code",
   "execution_count": 15,
   "id": "4794c990",
   "metadata": {},
   "outputs": [
    {
     "name": "stdout",
     "output_type": "stream",
     "text": [
      "Epoch 1/30\n",
      "9/9 [==============================] - 0s 19ms/step - loss: 1.7451 - accuracy: 0.5681 - val_loss: 0.6190 - val_accuracy: 0.7814\n",
      "Epoch 2/30\n",
      "9/9 [==============================] - 0s 4ms/step - loss: 0.5361 - accuracy: 0.8265 - val_loss: 0.4274 - val_accuracy: 0.8825\n",
      "Epoch 3/30\n",
      "9/9 [==============================] - 0s 3ms/step - loss: 0.3255 - accuracy: 0.9009 - val_loss: 0.3515 - val_accuracy: 0.9072\n",
      "Epoch 4/30\n",
      "9/9 [==============================] - 0s 3ms/step - loss: 0.2472 - accuracy: 0.9257 - val_loss: 0.2961 - val_accuracy: 0.9196\n",
      "Epoch 5/30\n",
      "9/9 [==============================] - 0s 3ms/step - loss: 0.2076 - accuracy: 0.9363 - val_loss: 0.2672 - val_accuracy: 0.9216\n",
      "Epoch 6/30\n",
      "9/9 [==============================] - 0s 3ms/step - loss: 0.1893 - accuracy: 0.9416 - val_loss: 0.2414 - val_accuracy: 0.9320\n",
      "Epoch 7/30\n",
      "9/9 [==============================] - 0s 3ms/step - loss: 0.1544 - accuracy: 0.9584 - val_loss: 0.2376 - val_accuracy: 0.9278\n",
      "Epoch 8/30\n",
      "9/9 [==============================] - 0s 3ms/step - loss: 0.1426 - accuracy: 0.9602 - val_loss: 0.2245 - val_accuracy: 0.9299\n",
      "Epoch 9/30\n",
      "9/9 [==============================] - 0s 3ms/step - loss: 0.1296 - accuracy: 0.9628 - val_loss: 0.2093 - val_accuracy: 0.9320\n",
      "Epoch 10/30\n",
      "9/9 [==============================] - 0s 3ms/step - loss: 0.1157 - accuracy: 0.9655 - val_loss: 0.1898 - val_accuracy: 0.9361\n",
      "Epoch 11/30\n",
      "9/9 [==============================] - 0s 3ms/step - loss: 0.1089 - accuracy: 0.9726 - val_loss: 0.1946 - val_accuracy: 0.9361\n",
      "Epoch 12/30\n",
      "9/9 [==============================] - 0s 3ms/step - loss: 0.1043 - accuracy: 0.9708 - val_loss: 0.2317 - val_accuracy: 0.9340\n",
      "Epoch 13/30\n",
      "9/9 [==============================] - 0s 3ms/step - loss: 0.1102 - accuracy: 0.9664 - val_loss: 0.2198 - val_accuracy: 0.9381\n",
      "Epoch 14/30\n",
      "9/9 [==============================] - 0s 3ms/step - loss: 0.1247 - accuracy: 0.9673 - val_loss: 0.1971 - val_accuracy: 0.9361\n",
      "Epoch 15/30\n",
      "9/9 [==============================] - 0s 3ms/step - loss: 0.1029 - accuracy: 0.9708 - val_loss: 0.1760 - val_accuracy: 0.9340\n",
      "Epoch 16/30\n",
      "9/9 [==============================] - 0s 4ms/step - loss: 0.0827 - accuracy: 0.9796 - val_loss: 0.1676 - val_accuracy: 0.9423\n",
      "Epoch 17/30\n",
      "9/9 [==============================] - 0s 3ms/step - loss: 0.0882 - accuracy: 0.9779 - val_loss: 0.1620 - val_accuracy: 0.9443\n",
      "Epoch 18/30\n",
      "9/9 [==============================] - 0s 3ms/step - loss: 0.0716 - accuracy: 0.9823 - val_loss: 0.1641 - val_accuracy: 0.9402\n",
      "Epoch 19/30\n",
      "9/9 [==============================] - 0s 3ms/step - loss: 0.0676 - accuracy: 0.9823 - val_loss: 0.1622 - val_accuracy: 0.9464\n",
      "Epoch 20/30\n",
      "9/9 [==============================] - 0s 3ms/step - loss: 0.0616 - accuracy: 0.9841 - val_loss: 0.1585 - val_accuracy: 0.9464\n",
      "Epoch 21/30\n",
      "9/9 [==============================] - 0s 3ms/step - loss: 0.0553 - accuracy: 0.9858 - val_loss: 0.1550 - val_accuracy: 0.9464\n",
      "Epoch 22/30\n",
      "9/9 [==============================] - 0s 3ms/step - loss: 0.0529 - accuracy: 0.9850 - val_loss: 0.1597 - val_accuracy: 0.9443\n",
      "Epoch 23/30\n",
      "9/9 [==============================] - 0s 3ms/step - loss: 0.0496 - accuracy: 0.9858 - val_loss: 0.1508 - val_accuracy: 0.9423\n",
      "Epoch 24/30\n",
      "9/9 [==============================] - 0s 3ms/step - loss: 0.0483 - accuracy: 0.9858 - val_loss: 0.1500 - val_accuracy: 0.9402\n",
      "Epoch 25/30\n",
      "9/9 [==============================] - 0s 4ms/step - loss: 0.0453 - accuracy: 0.9858 - val_loss: 0.1573 - val_accuracy: 0.9402\n",
      "Epoch 26/30\n",
      "9/9 [==============================] - 0s 3ms/step - loss: 0.0437 - accuracy: 0.9867 - val_loss: 0.1642 - val_accuracy: 0.9381\n",
      "Epoch 27/30\n",
      "9/9 [==============================] - 0s 4ms/step - loss: 0.0479 - accuracy: 0.9841 - val_loss: 0.1572 - val_accuracy: 0.9443\n",
      "Epoch 28/30\n",
      "9/9 [==============================] - 0s 3ms/step - loss: 0.0409 - accuracy: 0.9903 - val_loss: 0.1484 - val_accuracy: 0.9402\n",
      "Epoch 29/30\n",
      "9/9 [==============================] - 0s 3ms/step - loss: 0.0398 - accuracy: 0.9885 - val_loss: 0.1430 - val_accuracy: 0.9402\n",
      "Epoch 30/30\n",
      "9/9 [==============================] - 0s 3ms/step - loss: 0.0349 - accuracy: 0.9920 - val_loss: 0.1494 - val_accuracy: 0.9423\n"
     ]
    }
   ],
   "source": [
    "model.compile(loss='categorical_crossentropy',\n",
    "              optimizer='Adam',\n",
    "              metrics=['accuracy'])\n",
    "\n",
    "history = model.fit(train_img_pca, y_train,batch_size=batch_size,epochs=epochs,verbose=1,\n",
    "                    validation_data=(test_img_pca, y_test))"
   ]
  },
  {
   "cell_type": "code",
   "execution_count": 16,
   "id": "1a012a34",
   "metadata": {},
   "outputs": [
    {
     "data": {
      "image/png": "[encoded data removed]",
      "text/plain": [
       "<Figure size 432x288 with 1 Axes>"
      ]
     },
     "metadata": {
      "needs_background": "light"
     },
     "output_type": "display_data"
    }
   ],
   "source": [
    "# Get training and validation loss histories \n",
    "training_loss = history.history['loss'] \n",
    "test_loss = history.history['val_loss'] \n",
    " \n",
    "# Create count of the number of epochs \n",
    "plt.figure() \n",
    "epoch_count = range(1, len(training_loss) + 1) \n",
    " \n",
    "# Visualize loss history \n",
    "plt.plot(epoch_count, training_loss, 'r--') \n",
    "plt.plot(epoch_count, test_loss, 'b-') \n",
    "plt.legend(['Training Loss', 'Validation Loss']) \n",
    "plt.xlabel('Epoch') \n",
    "plt.ylabel('Loss') \n",
    "plt.show();"
   ]
  },
  {
   "cell_type": "code",
   "execution_count": 17,
   "id": "3ea972b4",
   "metadata": {},
   "outputs": [
    {
     "data": {
      "image/png": "[encoded data removed]",
      "text/plain": [
       "<Figure size 432x288 with 1 Axes>"
      ]
     },
     "metadata": {
      "needs_background": "light"
     },
     "output_type": "display_data"
    }
   ],
   "source": [
    "# Get training and validation accuracy histories \n",
    "training_acc = history.history['accuracy'] \n",
    "val_acc = history.history['val_accuracy'] \n",
    " \n",
    "# Create count of the number of epochs \n",
    "plt.figure() \n",
    "epoch_count = range(1, len(training_acc) + 1) \n",
    " \n",
    "# Visualize accuracy history \n",
    "plt.plot(epoch_count, training_acc, 'r--') \n",
    "plt.plot(epoch_count, val_acc, 'b-') \n",
    "plt.legend(['Training accuracy', 'Validation accuracy']) \n",
    "plt.xlabel('Epoch') \n",
    "plt.ylabel('Accuracy') \n",
    "plt.show(); "
   ]
  },
  {
   "cell_type": "code",
   "execution_count": 18,
   "id": "f82e6563",
   "metadata": {},
   "outputs": [
    {
     "name": "stdout",
     "output_type": "stream",
     "text": [
      " 1/16 [>.............................] - ETA: 0s - loss: 0.2216 - accuracy: 0.9375WARNING:tensorflow:Callbacks method `on_test_batch_end` is slow compared to the batch time (batch time: 0.0000s vs `on_test_batch_end` time: 0.0010s). Check your callbacks.\n",
      "16/16 [==============================] - 0s 1ms/step - loss: 0.1494 - accuracy: 0.9423\n",
      "Test results - Loss: 0.14937050640583038 - Accuracy: 0.9422680139541626%\n"
     ]
    }
   ],
   "source": [
    "# Test the model after training \n",
    "test_results = model.evaluate(test_img_pca, y_test, verbose=1) \n",
    "print(f'Test results - Loss: {test_results[0]} - Accuracy: {test_results[1]}%') "
   ]
  },
  {
   "cell_type": "code",
   "execution_count": 19,
   "id": "eb299779",
   "metadata": {},
   "outputs": [],
   "source": [
    "y_pred = model.predict(test_img_pca) "
   ]
  },
  {
   "cell_type": "code",
   "execution_count": 20,
   "id": "499e4697",
   "metadata": {},
   "outputs": [
    {
     "data": {
      "text/plain": [
       "<Figure size 432x432 with 0 Axes>"
      ]
     },
     "metadata": {},
     "output_type": "display_data"
    }
   ],
   "source": [
    "import seaborn as sns \n",
    "fig = plt.figure(figsize=(6, 6)) # Set Figure \n",
    "y_pred=np.argmax(y_pred, axis=1)\n",
    "y_test=np.argmax(y_test, axis=1)\n",
    "cm = confusion_matrix(y_test, y_pred)"
   ]
  },
  {
   "cell_type": "code",
   "execution_count": 21,
   "id": "318c0a46",
   "metadata": {},
   "outputs": [
    {
     "data": {
      "image/png": "[encoded data removed]",
      "text/plain": [
       "<Figure size 432x288 with 1 Axes>"
      ]
     },
     "metadata": {
      "needs_background": "light"
     },
     "output_type": "display_data"
    }
   ],
   "source": [
    "sns.heatmap(cm,  annot=True, cbar=False, cmap=plt.cm.Blues) \n",
    "plt.xlabel('Predicted Values') \n",
    "plt.ylabel('True Values'); \n",
    "plt.show();"
   ]
  },
  {
   "cell_type": "code",
   "execution_count": 22,
   "id": "35ebe62c",
   "metadata": {},
   "outputs": [
    {
     "name": "stdout",
     "output_type": "stream",
     "text": [
      "              precision    recall  f1-score   support\n",
      "\n",
      "           0       0.94      0.96      0.95       282\n",
      "           1       0.95      0.91      0.93       203\n",
      "\n",
      "    accuracy                           0.94       485\n",
      "   macro avg       0.94      0.94      0.94       485\n",
      "weighted avg       0.94      0.94      0.94       485\n",
      "\n"
     ]
    }
   ],
   "source": [
    "print(classification_report(y_test, y_pred))"
   ]
  },
  {
   "cell_type": "code",
   "execution_count": null,
   "id": "eccbf207",
   "metadata": {},
   "outputs": [],
   "source": []
  }
 ],
 "metadata": {
  "kernelspec": {
   "display_name": "Python 3 (ipykernel)",
   "language": "python",
   "name": "python3"
  },
  "language_info": {
   "codemirror_mode": {
    "name": "ipython",
    "version": 3
   },
   "file_extension": ".py",
   "mimetype": "text/x-python",
   "name": "python",
   "nbconvert_exporter": "python",
   "pygments_lexer": "ipython3",
   "version": "3.9.7"
  }
 },
 "nbformat": 4,
 "nbformat_minor": 5
}
