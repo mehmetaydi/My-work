{
  "nbformat": 4,
  "nbformat_minor": 0,
  "metadata": {
    "colab": {
      "name": "assignment2_72143.ipynb",
      "provenance": [],
      "collapsed_sections": []
    },
    "kernelspec": {
      "name": "python3",
      "display_name": "Python 3"
    },
    "accelerator": "GPU"
  },
  "cells": [
    {
      "cell_type": "code",
      "metadata": {
        "id": "WmlAA6iPfR7P"
      },
      "source": [
        "import numpy as np\n",
        "import os\n",
        "import librosa.display\n",
        "import matplotlib.pyplot as plt\n",
        "from scipy.fftpack import fft\n",
        "import numpy as np\n",
        "import librosa\n",
        "import tensorflow as tf\n",
        "from keras.utils import np_utils\n",
        "from tensorflow.keras.models import Sequential\n",
        "from tensorflow.keras import Input, layers\n",
        "from tensorflow.keras.layers import Dense, Dropout, LSTM,Flatten\n",
        "from sklearn.model_selection import train_test_split\n",
        "from sklearn.preprocessing import StandardScaler\n",
        "import glob\n",
        "from sklearn import preprocessing\n",
        "from keras.layers import Convolution2D, MaxPooling2D\n",
        "import pandas as pd\n",
        "from sklearn.model_selection import cross_val_score\n",
        "from sklearn.utils import shuffle"
      ],
      "execution_count": null,
      "outputs": []
    },
    {
      "cell_type": "code",
      "metadata": {
        "id": "ft2ISmCXUWGm"
      },
      "source": [
        "data = np.load('/content/drive/MyDrive/warblrb10k_public.npy')\n",
        "label = np.genfromtxt('/content/drive/MyDrive/warblrb10k_public.txt')\n",
        "\n",
        "data_2 = np.load('/content/drive/MyDrive/ff1010bird.npy')\n",
        "label_2 = np.genfromtxt('/content/drive/MyDrive/ff1010bird_metadata_2018.txt', delimiter=',')\n",
        "\n",
        "real_test_data = np.load('/content/drive/MyDrive/test_data.npy')\n"
      ],
      "execution_count": null,
      "outputs": []
    },
    {
      "cell_type": "code",
      "metadata": {
        "id": "Bx0L7e22VOvq",
        "colab": {
          "base_uri": "https://localhost:8080/"
        },
        "outputId": "83e10872-165a-4d60-f9a1-2a568b7ae9a5"
      },
      "source": [
        "label_1000 = label[:5000]\n",
        "data_1000 = data[:5000,:,:]\n",
        "label_2= label_2[:,1]\n",
        "label_2_1000 = label_2[:5000]\n",
        "\n",
        "data_2_1000 = data_2[:5000,:,:]\n",
        "\n",
        "training_data = np.concatenate((data_1000,data_2_1000), axis=0)\n",
        "training_data = training_data[..., np.newaxis]\n",
        "print(training_data.shape)\n",
        "training_labels = np.concatenate((label_1000,label_2_1000), axis=0)\n",
        "print(training_labels.shape)"
      ],
      "execution_count": null,
      "outputs": [
        {
          "output_type": "stream",
          "text": [
            "(10000, 40, 862, 1)\n",
            "(10000,)\n"
          ],
          "name": "stdout"
        }
      ]
    },
    {
      "cell_type": "code",
      "metadata": {
        "colab": {
          "base_uri": "https://localhost:8080/"
        },
        "id": "FTcJhlKvBg_T",
        "outputId": "2365d3a2-9737-4dc1-b6b0-c75007235e7b"
      },
      "source": [
        "csv72 = pd.read_csv('/content/drive/MyDrive/out72345.csv')\n",
        "csv72 = csv72['Predicted']\n",
        "csv72 = np.array(csv72)\n",
        "\n",
        "index_data_ones = np.where(csv72>0.97)\n",
        "added_ones = real_test_data[index_data_ones]\n",
        "\n",
        "index_data_zeros = np.where(csv72<0.045)\n",
        "added_zeros = real_test_data[index_data_zeros]\n",
        "\n",
        "added_ones = added_ones[..., np.newaxis]\n",
        "added_zeros = added_zeros[..., np.newaxis]\n",
        "\n",
        "added_labels_ones = np.ones(len(added_ones))\n",
        "added_labels_zeros = np.zeros(len(added_zeros))\n",
        "\n",
        "unsupervised_data = np.concatenate((added_ones,added_zeros), axis=0)\n",
        "\n",
        "unsupervised_labels = np.concatenate((added_labels_ones,added_labels_zeros), axis=0)\n",
        "unsupervised_data.shape\n"
      ],
      "execution_count": null,
      "outputs": [
        {
          "output_type": "execute_result",
          "data": {
            "text/plain": [
              "(2216, 40, 862, 1)"
            ]
          },
          "metadata": {
            "tags": []
          },
          "execution_count": 7
        }
      ]
    },
    {
      "cell_type": "code",
      "metadata": {
        "id": "bW5LPtsS1s9F"
      },
      "source": [
        "\n",
        "data_2000 = data[5001:,:,:]\n",
        "data_2_2000 = data_2[5001:,:,:]\n",
        "test_data = np.concatenate((data_2000,data_2_2000), axis=0)\n",
        "test_data = test_data[..., np.newaxis]\n",
        "\n",
        "test_data = np.concatenate((test_data,unsupervised_data), axis=0)\n",
        "\n",
        "label_2000 = label[5001:]\n",
        "label_2_2000 = label_2[5001:]\n",
        "\n",
        "test_labels = np.concatenate((label_2000,label_2_2000), axis=0)\n",
        "test_labels = np.concatenate((test_labels,unsupervised_labels), axis=0)\n"
      ],
      "execution_count": null,
      "outputs": []
    },
    {
      "cell_type": "code",
      "metadata": {
        "colab": {
          "base_uri": "https://localhost:8080/"
        },
        "id": "oPivCpZQsIO5",
        "outputId": "dc72592e-c55d-4055-b58a-0f16f58f8bef"
      },
      "source": [
        "test_data.shape"
      ],
      "execution_count": null,
      "outputs": [
        {
          "output_type": "execute_result",
          "data": {
            "text/plain": [
              "(10120, 40, 862, 1)"
            ]
          },
          "metadata": {
            "tags": []
          },
          "execution_count": 10
        }
      ]
    },
    {
      "cell_type": "code",
      "metadata": {
        "colab": {
          "base_uri": "https://localhost:8080/"
        },
        "id": "oFOJ1n1pr5e-",
        "outputId": "a7448aff-f749-4e3f-9710-ae1601081d25"
      },
      "source": [
        "one = np.count_nonzero(test_labels == 1, axis=0) \n",
        "print(one)"
      ],
      "execution_count": null,
      "outputs": [
        {
          "output_type": "stream",
          "text": [
            "4840\n"
          ],
          "name": "stdout"
        }
      ]
    },
    {
      "cell_type": "code",
      "metadata": {
        "id": "fHuS6e7EW4tM"
      },
      "source": [
        "\n",
        "test_train_data = np.concatenate((training_data,test_data), axis=0)\n",
        "test_train_labels = np.concatenate((training_labels,test_labels), axis=0)\n"
      ],
      "execution_count": null,
      "outputs": []
    },
    {
      "cell_type": "code",
      "metadata": {
        "id": "fmLRoS3jjCUO",
        "colab": {
          "base_uri": "https://localhost:8080/"
        },
        "outputId": "bc7606a4-15f6-4b04-cab3-4623389ea6fc"
      },
      "source": [
        "\n",
        "print(test_train_data.shape)\n",
        "print(test_train_labels.shape)"
      ],
      "execution_count": null,
      "outputs": [
        {
          "output_type": "stream",
          "text": [
            "(20120, 40, 862, 1)\n",
            "(20120,)\n"
          ],
          "name": "stdout"
        }
      ]
    },
    {
      "cell_type": "code",
      "metadata": {
        "id": "BIA28ZIUXgW9"
      },
      "source": [
        "test_train_data, test_train_labels = shuffle(test_train_data, test_train_labels, random_state=0)"
      ],
      "execution_count": null,
      "outputs": []
    },
    {
      "cell_type": "code",
      "metadata": {
        "id": "v2esTm4K16KR",
        "colab": {
          "base_uri": "https://localhost:8080/"
        },
        "outputId": "00981f04-2a23-4f34-cc88-149384e32d9c"
      },
      "source": [
        "\n",
        "output_size = 2\n",
        "\n",
        "model = tf.keras.Sequential([\n",
        "                            tf.keras.layers.Conv2D(96, kernel_size=(5,5), input_shape=(40,862,1), padding='same', activation='relu'),\n",
        "                            tf.keras.layers.BatchNormalization(),\n",
        "                            tf.keras.layers.MaxPool2D(pool_size=(5,5)),\n",
        "                            tf.keras.layers.Dropout(0.3),  \n",
        "                            \n",
        "                            tf.keras.layers.Conv2D(96, kernel_size=(5,5), padding='same',activation='relu'),\n",
        "                            tf.keras.layers.BatchNormalization(),\n",
        "                            tf.keras.layers.MaxPool2D(pool_size=(2,2)),\n",
        "                            tf.keras.layers.Dropout(0.3), \n",
        "                           \n",
        "                            tf.keras.layers.Conv2D(96, kernel_size=(5,5),  padding='same', activation='relu'),\n",
        "                            tf.keras.layers.BatchNormalization(),\n",
        "                            tf.keras.layers.MaxPool2D(pool_size=(2,2)),\n",
        "                            tf.keras.layers.Dropout(0.3),\n",
        "                             \n",
        "                            tf.keras.layers.Conv2D(96, kernel_size=(5,5),  padding='same', activation='relu'),\n",
        "                            tf.keras.layers.BatchNormalization(),\n",
        "                            tf.keras.layers.MaxPool2D(pool_size=(2,2)),\n",
        "                            tf.keras.layers.Dropout(0.3),\n",
        "\n",
        "                            tf.keras.layers.Conv2D(96, kernel_size=(5,5),  padding='same', activation='relu'),\n",
        "                             \n",
        "                            tf.keras.layers.Reshape((21, 96), input_shape=(1,21,96)),\n",
        "                            tf.keras.layers.LSTM(96, return_sequences=True),\n",
        "                            tf.keras.layers.LSTM(96, return_sequences=True),\n",
        "                            #tf.keras.layers.LSTM(128, return_sequences=True),\n",
        "                            tf.keras.layers.Flatten(),\n",
        "                            tf.keras.layers.Dense(256, activation='relu'),\n",
        "                            tf.keras.layers.BatchNormalization(),\n",
        "                            tf.keras.layers.Dense(128, activation='relu'),\n",
        "                            tf.keras.layers.BatchNormalization(),\n",
        "                            tf.keras.layers.Dense(64, activation='relu'),\n",
        "                            tf.keras.layers.Dense(output_size, activation='softmax')    \n",
        "                            ])\n",
        "model.summary()"
      ],
      "execution_count": null,
      "outputs": [
        {
          "output_type": "stream",
          "text": [
            "Model: \"sequential\"\n",
            "_________________________________________________________________\n",
            "Layer (type)                 Output Shape              Param #   \n",
            "=================================================================\n",
            "conv2d (Conv2D)              (None, 40, 862, 96)       2496      \n",
            "_________________________________________________________________\n",
            "batch_normalization (BatchNo (None, 40, 862, 96)       384       \n",
            "_________________________________________________________________\n",
            "max_pooling2d (MaxPooling2D) (None, 8, 172, 96)        0         \n",
            "_________________________________________________________________\n",
            "dropout (Dropout)            (None, 8, 172, 96)        0         \n",
            "_________________________________________________________________\n",
            "conv2d_1 (Conv2D)            (None, 8, 172, 96)        230496    \n",
            "_________________________________________________________________\n",
            "batch_normalization_1 (Batch (None, 8, 172, 96)        384       \n",
            "_________________________________________________________________\n",
            "max_pooling2d_1 (MaxPooling2 (None, 4, 86, 96)         0         \n",
            "_________________________________________________________________\n",
            "dropout_1 (Dropout)          (None, 4, 86, 96)         0         \n",
            "_________________________________________________________________\n",
            "conv2d_2 (Conv2D)            (None, 4, 86, 96)         230496    \n",
            "_________________________________________________________________\n",
            "batch_normalization_2 (Batch (None, 4, 86, 96)         384       \n",
            "_________________________________________________________________\n",
            "max_pooling2d_2 (MaxPooling2 (None, 2, 43, 96)         0         \n",
            "_________________________________________________________________\n",
            "dropout_2 (Dropout)          (None, 2, 43, 96)         0         \n",
            "_________________________________________________________________\n",
            "conv2d_3 (Conv2D)            (None, 2, 43, 96)         230496    \n",
            "_________________________________________________________________\n",
            "batch_normalization_3 (Batch (None, 2, 43, 96)         384       \n",
            "_________________________________________________________________\n",
            "max_pooling2d_3 (MaxPooling2 (None, 1, 21, 96)         0         \n",
            "_________________________________________________________________\n",
            "dropout_3 (Dropout)          (None, 1, 21, 96)         0         \n",
            "_________________________________________________________________\n",
            "conv2d_4 (Conv2D)            (None, 1, 21, 96)         230496    \n",
            "_________________________________________________________________\n",
            "reshape (Reshape)            (None, 21, 96)            0         \n",
            "_________________________________________________________________\n",
            "lstm (LSTM)                  (None, 21, 96)            74112     \n",
            "_________________________________________________________________\n",
            "lstm_1 (LSTM)                (None, 21, 96)            74112     \n",
            "_________________________________________________________________\n",
            "flatten (Flatten)            (None, 2016)              0         \n",
            "_________________________________________________________________\n",
            "dense (Dense)                (None, 256)               516352    \n",
            "_________________________________________________________________\n",
            "batch_normalization_4 (Batch (None, 256)               1024      \n",
            "_________________________________________________________________\n",
            "dense_1 (Dense)              (None, 128)               32896     \n",
            "_________________________________________________________________\n",
            "batch_normalization_5 (Batch (None, 128)               512       \n",
            "_________________________________________________________________\n",
            "dense_2 (Dense)              (None, 64)                8256      \n",
            "_________________________________________________________________\n",
            "dense_3 (Dense)              (None, 2)                 130       \n",
            "=================================================================\n",
            "Total params: 1,633,410\n",
            "Trainable params: 1,631,874\n",
            "Non-trainable params: 1,536\n",
            "_________________________________________________________________\n"
          ],
          "name": "stdout"
        }
      ]
    },
    {
      "cell_type": "code",
      "metadata": {
        "id": "GV6oVnXv2MjV",
        "colab": {
          "base_uri": "https://localhost:8080/"
        },
        "outputId": "833ba220-b3a1-4c56-d915-88c376f374a3"
      },
      "source": [
        "'''\n",
        "from tensorflow import keras\n",
        "opt = keras.optimizers.Adam(learning_rate=0.01)\n",
        "model.compile(optimizer=opt,\n",
        "              loss='sparse_categorical_crossentropy',\n",
        "              metrics=['accuracy'])\n",
        "'''\n",
        "\n",
        "model.compile(optimizer='adam',\n",
        "              loss='sparse_categorical_crossentropy',\n",
        "              metrics=['accuracy'])\n",
        "epochs = 45\n",
        "model.fit(training_data, training_labels, batch_size=32, epochs=epochs, verbose=1)      \n",
        "\n",
        "\n",
        "#test_train_data, test_train_labels = shuffle(test_train_data, test_train_labels, random_state=0)\n",
        "#model.fit(test_train_data, test_train_labels, batch_size=32, epochs=epochs, verbose=1)"
      ],
      "execution_count": null,
      "outputs": [
        {
          "output_type": "stream",
          "text": [
            "Epoch 1/45\n",
            "313/313 [==============================] - 23s 73ms/step - loss: 0.5388 - accuracy: 0.7447\n",
            "Epoch 2/45\n",
            "313/313 [==============================] - 23s 73ms/step - loss: 0.4773 - accuracy: 0.7884\n",
            "Epoch 3/45\n",
            "313/313 [==============================] - 23s 72ms/step - loss: 0.4682 - accuracy: 0.7935\n",
            "Epoch 4/45\n",
            "313/313 [==============================] - 23s 73ms/step - loss: 0.4670 - accuracy: 0.7916\n",
            "Epoch 5/45\n",
            "313/313 [==============================] - 23s 73ms/step - loss: 0.4264 - accuracy: 0.8121\n",
            "Epoch 6/45\n",
            "313/313 [==============================] - 23s 73ms/step - loss: 0.3996 - accuracy: 0.8276\n",
            "Epoch 7/45\n",
            "313/313 [==============================] - 23s 74ms/step - loss: 0.3772 - accuracy: 0.8341\n",
            "Epoch 8/45\n",
            "313/313 [==============================] - 23s 73ms/step - loss: 0.3601 - accuracy: 0.8435\n",
            "Epoch 9/45\n",
            "313/313 [==============================] - 23s 73ms/step - loss: 0.3495 - accuracy: 0.8484\n",
            "Epoch 10/45\n",
            "313/313 [==============================] - 23s 73ms/step - loss: 0.3466 - accuracy: 0.8561\n",
            "Epoch 11/45\n",
            "313/313 [==============================] - 23s 73ms/step - loss: 0.3428 - accuracy: 0.8549\n",
            "Epoch 12/45\n",
            "313/313 [==============================] - 23s 73ms/step - loss: 0.3344 - accuracy: 0.8594\n",
            "Epoch 13/45\n",
            "313/313 [==============================] - 23s 73ms/step - loss: 0.3336 - accuracy: 0.8605\n",
            "Epoch 14/45\n",
            "313/313 [==============================] - 23s 73ms/step - loss: 0.3238 - accuracy: 0.8657\n",
            "Epoch 15/45\n",
            "313/313 [==============================] - 23s 73ms/step - loss: 0.3234 - accuracy: 0.8650\n",
            "Epoch 16/45\n",
            "313/313 [==============================] - 23s 73ms/step - loss: 0.3132 - accuracy: 0.8699\n",
            "Epoch 17/45\n",
            "313/313 [==============================] - 23s 73ms/step - loss: 0.3046 - accuracy: 0.8777\n",
            "Epoch 18/45\n",
            "313/313 [==============================] - 23s 73ms/step - loss: 0.3045 - accuracy: 0.8760\n",
            "Epoch 19/45\n",
            "313/313 [==============================] - 23s 73ms/step - loss: 0.3009 - accuracy: 0.8786\n",
            "Epoch 20/45\n",
            "313/313 [==============================] - 23s 73ms/step - loss: 0.2906 - accuracy: 0.8857\n",
            "Epoch 21/45\n",
            "313/313 [==============================] - 23s 73ms/step - loss: 0.2883 - accuracy: 0.8857\n",
            "Epoch 22/45\n",
            "313/313 [==============================] - 23s 73ms/step - loss: 0.2799 - accuracy: 0.8874\n",
            "Epoch 23/45\n",
            "313/313 [==============================] - 23s 73ms/step - loss: 0.2765 - accuracy: 0.8897\n",
            "Epoch 24/45\n",
            "313/313 [==============================] - 23s 73ms/step - loss: 0.2769 - accuracy: 0.8868\n",
            "Epoch 25/45\n",
            "313/313 [==============================] - 23s 74ms/step - loss: 0.2738 - accuracy: 0.8936\n",
            "Epoch 26/45\n",
            "313/313 [==============================] - 23s 74ms/step - loss: 0.2680 - accuracy: 0.8914\n",
            "Epoch 27/45\n",
            "313/313 [==============================] - 23s 73ms/step - loss: 0.2617 - accuracy: 0.8985\n",
            "Epoch 28/45\n",
            "313/313 [==============================] - 23s 73ms/step - loss: 0.2574 - accuracy: 0.8985\n",
            "Epoch 29/45\n",
            "313/313 [==============================] - 23s 74ms/step - loss: 0.2546 - accuracy: 0.9013\n",
            "Epoch 30/45\n",
            "313/313 [==============================] - 23s 73ms/step - loss: 0.2536 - accuracy: 0.8977\n",
            "Epoch 31/45\n",
            "313/313 [==============================] - 23s 73ms/step - loss: 0.2520 - accuracy: 0.8987\n",
            "Epoch 32/45\n",
            "313/313 [==============================] - 23s 73ms/step - loss: 0.2433 - accuracy: 0.9046\n",
            "Epoch 33/45\n",
            "313/313 [==============================] - 23s 74ms/step - loss: 0.2437 - accuracy: 0.9059\n",
            "Epoch 34/45\n",
            "313/313 [==============================] - 23s 74ms/step - loss: 0.2336 - accuracy: 0.9095\n",
            "Epoch 35/45\n",
            "313/313 [==============================] - 23s 73ms/step - loss: 0.2309 - accuracy: 0.9074\n",
            "Epoch 36/45\n",
            "313/313 [==============================] - 23s 73ms/step - loss: 0.2287 - accuracy: 0.9083\n",
            "Epoch 37/45\n",
            "313/313 [==============================] - 23s 74ms/step - loss: 0.2277 - accuracy: 0.9090\n",
            "Epoch 38/45\n",
            "313/313 [==============================] - 23s 72ms/step - loss: 0.2225 - accuracy: 0.9169\n",
            "Epoch 39/45\n",
            "313/313 [==============================] - 23s 72ms/step - loss: 0.2210 - accuracy: 0.9124\n",
            "Epoch 40/45\n",
            "313/313 [==============================] - 23s 73ms/step - loss: 0.2152 - accuracy: 0.9144\n",
            "Epoch 41/45\n",
            "313/313 [==============================] - 23s 73ms/step - loss: 0.2124 - accuracy: 0.9172\n",
            "Epoch 42/45\n",
            "313/313 [==============================] - 23s 73ms/step - loss: 0.1975 - accuracy: 0.9233\n",
            "Epoch 43/45\n",
            "313/313 [==============================] - 23s 73ms/step - loss: 0.2031 - accuracy: 0.9209\n",
            "Epoch 44/45\n",
            "313/313 [==============================] - 23s 73ms/step - loss: 0.2040 - accuracy: 0.9195\n",
            "Epoch 45/45\n",
            "313/313 [==============================] - 23s 73ms/step - loss: 0.2076 - accuracy: 0.9208\n"
          ],
          "name": "stdout"
        },
        {
          "output_type": "execute_result",
          "data": {
            "text/plain": [
              "<tensorflow.python.keras.callbacks.History at 0x7f80ce2a4828>"
            ]
          },
          "metadata": {
            "tags": []
          },
          "execution_count": 13
        }
      ]
    },
    {
      "cell_type": "code",
      "metadata": {
        "id": "QwAne3Cbo0Og"
      },
      "source": [
        "model.fit(test_data, test_labels, batch_size=32, epochs=epochs, verbose=1)  "
      ],
      "execution_count": null,
      "outputs": []
    },
    {
      "cell_type": "code",
      "metadata": {
        "id": "ctnpN_Ror96Z",
        "colab": {
          "base_uri": "https://localhost:8080/"
        },
        "outputId": "0874fbc5-f05f-4190-abc4-1ac162f6849a"
      },
      "source": [
        "results = model.predict(test_data)\n",
        "\n",
        "predicted = results[:,1]\n",
        "#predicted = np.argmax(results,axis=1)\n",
        "#predicted = np.amax(results,axis=1)\n",
        "from sklearn.metrics import roc_auc_score\n",
        "roc_score = roc_auc_score(test_labels,predicted)\n",
        "print(roc_score)"
      ],
      "execution_count": null,
      "outputs": [
        {
          "output_type": "stream",
          "text": [
            "0.944801406660105\n"
          ],
          "name": "stdout"
        }
      ]
    },
    {
      "cell_type": "code",
      "metadata": {
        "id": "ZkjdlvsNtEqW"
      },
      "source": [
        "test_frame = {'Zero' : results[:,0],'One' : results[:,1]}\n",
        "percentages = pd.DataFrame(data = test_frame)\n",
        "print(percentages)"
      ],
      "execution_count": null,
      "outputs": []
    },
    {
      "cell_type": "code",
      "metadata": {
        "id": "XL9NN1-vtdt1"
      },
      "source": [
        "model.evaluate(test_data, test_labels)"
      ],
      "execution_count": null,
      "outputs": []
    },
    {
      "cell_type": "code",
      "metadata": {
        "id": "g6Bn6cnUsgeK"
      },
      "source": [
        "results = model.predict(test_train_data)\n",
        "\n",
        "predicted = np.amax(results,axis=1)\n",
        "from sklearn.metrics import roc_auc_score\n",
        "roc_score = roc_auc_score(test_train_labels,predicted)\n",
        "print(roc_score)"
      ],
      "execution_count": null,
      "outputs": []
    },
    {
      "cell_type": "code",
      "metadata": {
        "id": "Ca2n8X9atkTF"
      },
      "source": [
        "test_frame = {'Zero' : results[:,0],'One' : results[:,1]}\n",
        "percentages = pd.DataFrame(data = test_frame)\n",
        "print(percentages)"
      ],
      "execution_count": null,
      "outputs": []
    },
    {
      "cell_type": "code",
      "metadata": {
        "id": "20recJY0t-b3"
      },
      "source": [
        "model.evaluate(test_train_data, test_train_labels)"
      ],
      "execution_count": null,
      "outputs": []
    },
    {
      "cell_type": "code",
      "metadata": {
        "id": "6x857j8qTiz9",
        "colab": {
          "base_uri": "https://localhost:8080/"
        },
        "outputId": "d5fba1d4-3bb1-46b4-acf4-4a669a749834"
      },
      "source": [
        "real_test_data = real_test_data[..., np.newaxis]\n",
        "\n",
        "real_test_data.shape"
      ],
      "execution_count": null,
      "outputs": [
        {
          "output_type": "execute_result",
          "data": {
            "text/plain": [
              "(4512, 40, 862, 1)"
            ]
          },
          "metadata": {
            "tags": []
          },
          "execution_count": 7
        }
      ]
    },
    {
      "cell_type": "code",
      "metadata": {
        "id": "4liljaRVfUSx"
      },
      "source": [
        "results = model.predict(real_test_data)"
      ],
      "execution_count": null,
      "outputs": []
    },
    {
      "cell_type": "code",
      "metadata": {
        "id": "qHUMvLh6fb6e",
        "colab": {
          "base_uri": "https://localhost:8080/"
        },
        "outputId": "ee1c5a65-e744-411f-da10-bd629e4aeb4e"
      },
      "source": [
        "#predicted1 = np.argmax(results,axis=1)\n",
        "predicted = results[:,1]\n",
        "print(predicted.shape)\n",
        "\n",
        "one = np.count_nonzero(predicted > 0.8, axis=0) \n",
        "print(one)\n",
        "two = np.count_nonzero(predicted > 0.5, axis=0) \n",
        "print(two)\n",
        "three = np.count_nonzero(predicted < 0.5, axis=0) \n",
        "print(three)\n",
        "four = np.count_nonzero(predicted < 0.2, axis=0) \n",
        "print(four)"
      ],
      "execution_count": null,
      "outputs": [
        {
          "output_type": "stream",
          "text": [
            "(4512,)\n",
            "1024\n",
            "1114\n",
            "3398\n",
            "3308\n"
          ],
          "name": "stdout"
        }
      ]
    },
    {
      "cell_type": "code",
      "metadata": {
        "id": "_9Vvjm7FfhCw"
      },
      "source": [
        "test_name = np.arange(0,len(real_test_data))\n",
        "\n",
        "frame = {'ID' : test_name, 'Predicted' : predicted }\n",
        "end_data = pd.DataFrame(data = frame)\n",
        "# end_data['ID'] = end_data.Id.str.split('.')\n",
        "# end_data['ID'] = end_data.Id.str.get(0)\n",
        "\n",
        "compression_opts = dict(method='zip',\n",
        "                        archive_name='out.csv') \n",
        "end_data.to_csv('out.zip', index=False,\n",
        "          compression=compression_opts) "
      ],
      "execution_count": null,
      "outputs": []
    }
  ]
}